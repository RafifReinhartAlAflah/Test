{
 "cells": [
  {
   "cell_type": "markdown",
   "metadata": {},
   "source": [
    "NIM/Nama: 16523235/Rafif Reinhart Al Aflah\n",
    "Tanggal: 8 November 2023\n",
    "Deskripsi: Program menentukan banyak data mahasiswa dan korelasi antardata mahasiswa\n",
    " \n"
   ]
  },
  {
   "cell_type": "code",
   "execution_count": 1,
   "metadata": {},
   "outputs": [
    {
     "name": "stdout",
     "output_type": "stream",
     "text": [
      "Banyaknya data 5135\n"
     ]
    }
   ],
   "source": [
    "import pandas as pd\n",
    "# mencari banyaknya data\n",
    "# & = and\n",
    "# | = or\n",
    "\n",
    "df = pd.read_csv(\"H05.csv\")\n",
    "\n",
    "print(f\"Banyaknya data {len(df)}\")"
   ]
  },
  {
   "cell_type": "code",
   "execution_count": 2,
   "metadata": {},
   "outputs": [
    {
     "name": "stdout",
     "output_type": "stream",
     "text": [
      "\n",
      "10 data pertama\n",
      "                             nama fakultas  nilai_mat  nilai_kim  nilai_fis\n",
      "0            Farhan Fathur Rahman    FMIPA      57.21      34.14      38.93\n",
      "1                  Steven Margono    FMIPA      67.43      51.50      57.20\n",
      "2                    Ryan Sentosa    SAPPK      90.62      37.38      40.73\n",
      "3            Muhajah Babny Muslim    FMIPA      72.31      38.80      44.79\n",
      "4                Alvin Natawiguna     FTSL      65.45      57.67      56.39\n",
      "5                   Sasti Safitri     FTSL      60.58      41.91      51.55\n",
      "6             Dani Yulianto Putra     FTSL      51.67      35.05      48.69\n",
      "7  Nabila Febitsukarizky Bunyamin     FTTM      71.66      67.61      69.75\n",
      "8             Ratna Siti Khodijah      FTI      73.06      59.16      59.48\n",
      "9                    Gita Partiwi     FTSL      69.57      38.84      48.17\n"
     ]
    }
   ],
   "source": [
    "import pandas as pd\n",
    "# menampilkan 10 data pertama\n",
    "df = pd.read_csv(\"H05.csv\")\n",
    "\n",
    "print(\"\\n10 data pertama\")\n",
    "print(df[:10])\n"
   ]
  },
  {
   "cell_type": "code",
   "execution_count": 40,
   "metadata": {},
   "outputs": [
    {
     "name": "stdout",
     "output_type": "stream",
     "text": [
      "\n",
      "data 50 sampai 60\n",
      "                        nama fakultas  nilai_mat  nilai_kim  nilai_fis\n",
      "50      Arief Syakur Sutedjo     FTTM      84.40      61.21      73.91\n",
      "51         Fayi Raihan Saleh    FMIPA      60.62      32.57      42.34\n",
      "52          Erna Kristiawati      FTI      67.48      46.78      52.30\n",
      "53                    Albert    SAPPK      70.27      50.10      54.01\n",
      "54  M Jazztyan Indra Pradana     STEI      53.40      43.06      60.30\n",
      "55      Moch Ginanjar Busiri    FMIPA      74.29      38.44      49.15\n",
      "56              Aisya Tamara     FITB      71.49      35.86      37.41\n",
      "57        Tyas Arum Widayati    SAPPK      68.57      37.02      53.25\n",
      "58                Arif Saleh      FTI     100.00      59.79      55.33\n",
      "59     Windy Diwita Nisaekti      FTI      67.15      57.72      54.24\n",
      "60             Alif Aviano S     STEI      54.11      58.01      73.17\n"
     ]
    }
   ],
   "source": [
    "import pandas as pd\n",
    "#menampilkan data ke 50 sampai 60\n",
    "df = pd.read_csv(\"H05.csv\")\n",
    "\n",
    "print(\"\\ndata 50 sampai 60\") \n",
    "print(df[50:61])\n"
   ]
  },
  {
   "cell_type": "code",
   "execution_count": 2,
   "metadata": {},
   "outputs": [
    {
     "name": "stdout",
     "output_type": "stream",
     "text": [
      "fakultas\n",
      "FTI      834\n",
      "STEI     777\n",
      "FTSL     660\n",
      "FMIPA    627\n",
      "FTTM     579\n",
      "FTMD     480\n",
      "FITB     403\n",
      "SAPPK    315\n",
      "SITHR    282\n",
      "SITHS    178\n",
      "Name: count, dtype: int64\n",
      "banyaknya mahasiswa fakultas FMIPA: 627\n",
      "banyaknya mahasiswa fakultas SAPPK: 315\n",
      "banyaknya mahasiswa fakultas FTSL: 660\n",
      "banyaknya mahasiswa fakultas FTTM: 579\n",
      "banyaknya mahasiswa fakultas FTI : 834\n",
      "banyaknya mahasiswa fakultas STEI: 777\n",
      "banyaknya mahasiswa fakultas FITB: 403\n",
      "banyaknya mahasiswa fakultas FTMD: 480\n",
      "banyaknya mahasiswa fakultas SITHR: 282\n",
      "banyaknya mahasiswa fakultas SITHS: 178\n"
     ]
    }
   ],
   "source": [
    "import pandas as pd\n",
    "#menampilkan banyak mahasiswa tiap fakultas\n",
    "df = pd.read_csv(\"H05.csv\")\n",
    "\n",
    "print(df[\"fakultas\"].value_counts())\n",
    "\n",
    "# print(\"banyaknya mahasiswa fakultas FMIPA:\", end =\" \")\n",
    "# print(len(df.loc[(df[\"fakultas\"] == \"FMIPA\")]))\n",
    "# print(\"banyaknya mahasiswa fakultas SAPPK:\", end = \" \")\n",
    "# print(len(df.loc[(df[\"fakultas\"] == \"SAPPK\")]))\n",
    "# print(\"banyaknya mahasiswa fakultas FTSL:\", end = \" \")\n",
    "# print(len(df.loc[(df[\"fakultas\"] == \"FTSL\")]))\n",
    "# print(\"banyaknya mahasiswa fakultas FTTM:\", end = \" \")\n",
    "# print(len(df.loc[(df[\"fakultas\"] == \"FTTM\")]))\n",
    "# print(\"banyaknya mahasiswa fakultas FTI :\", end= \" \")\n",
    "# print(len(df.loc[(df[\"fakultas\"] == \"FTI\")]))\n",
    "# print(\"banyaknya mahasiswa fakultas STEI:\", end =\" \")\n",
    "# print(len(df.loc[(df[\"fakultas\"] == \"STEI\")]))\n",
    "# print(\"banyaknya mahasiswa fakultas FITB:\", end =\" \")\n",
    "# print(len(df.loc[(df[\"fakultas\"] == \"FITB\")]))\n",
    "# print(\"banyaknya mahasiswa fakultas FTMD:\", end =\" \")\n",
    "# print(len(df.loc[(df[\"fakultas\"] == \"FTMD\")]))\n",
    "# print(\"banyaknya mahasiswa fakultas SITHR:\", end =\" \")\n",
    "# print(len(df.loc[(df[\"fakultas\"] == \"SITHR\")]))\n",
    "# print(\"banyaknya mahasiswa fakultas SITHS:\", end =\" \")\n",
    "# print(len(df.loc[(df[\"fakultas\"] == \"SITHS\")]))"
   ]
  },
  {
   "cell_type": "markdown",
   "metadata": {},
   "source": []
  },
  {
   "cell_type": "code",
   "execution_count": 7,
   "metadata": {},
   "outputs": [
    {
     "name": "stdout",
     "output_type": "stream",
     "text": [
      "lurus\n",
      "0.7988187423880274\n"
     ]
    }
   ],
   "source": [
    "import pandas as pd\n",
    "#menentukan kolerasi antara nilai fisika dan kimia\n",
    "df = pd.read_csv(\"H05.csv\")\n",
    "korelasi = df[\"nilai_fis\"].corr(df[\"nilai_kim\"])\n",
    "\n",
    "#ambil 1/3 agar dia sama rata nilai tiap bagiannya \n",
    "if korelasi > 1/3: #grafiknya naik\n",
    "    print(\"lurus\")\n",
    "elif korelasi < -1/3: #grafiknya turun\n",
    "    print(\"terbalik\")\n",
    "else: # -1/3<kolerasi<1/3 (grafiknya acak, tidak terlalu naik maupun turun)\n",
    "    print(\"tidak berkolerasi\")\n",
    "\n",
    "print(korelasi)"
   ]
  },
  {
   "cell_type": "markdown",
   "metadata": {},
   "source": []
  }
 ],
 "metadata": {
  "kernelspec": {
   "display_name": "Python 3",
   "language": "python",
   "name": "python3"
  },
  "language_info": {
   "codemirror_mode": {
    "name": "ipython",
    "version": 3
   },
   "file_extension": ".py",
   "mimetype": "text/x-python",
   "name": "python",
   "nbconvert_exporter": "python",
   "pygments_lexer": "ipython3",
   "version": "3.11.5"
  }
 },
 "nbformat": 4,
 "nbformat_minor": 2
}
