{
 "cells": [
  {
   "cell_type": "markdown",
   "metadata": {},
   "source": [
    "NIM/Nama: 16523235/Rafif Reinhart Al Aflah\n",
    "Tanggal: 8 November 2023\n",
    "Deskripsi: Program menentukan nilai mahasiswa yang tertinggi dan di bawah rata-rata,serta banyaknya mahasiswa dalam fakultas\n",
    "\n"
   ]
  },
  {
   "cell_type": "code",
   "execution_count": 1,
   "metadata": {},
   "outputs": [
    {
     "name": "stdout",
     "output_type": "stream",
     "text": [
      "          nama fakultas  nilai_mat  nilai_kim  nilai_fis\n",
      "3513  Tuan Ric     STEI      96.78      62.23      30.53\n"
     ]
    }
   ],
   "source": [
    "import pandas as pd\n",
    "#menampilkan nilai matematika,fisika, dan kimia Tuan Ric\n",
    "df = pd.read_csv(\"H05.csv\")\n",
    "\n",
    "nilai = (df.loc[(df[\"nama\"] == \"Tuan Ric\")])\n",
    "\n",
    "print(nilai)"
   ]
  },
  {
   "cell_type": "code",
   "execution_count": 2,
   "metadata": {},
   "outputs": [
    {
     "name": "stdout",
     "output_type": "stream",
     "text": [
      "                         nama fakultas  nilai_mat  nilai_kim  nilai_fis\n",
      "1936  Yuniar Fazriani Rusmana     FITB      53.61      67.19      92.57\n",
      "4145                    Grace    SAPPK      62.23      68.08      90.46\n",
      "918            Siti Munawaroh     STEI      62.22      73.93      90.13\n",
      "1147             Feruz Kausar     STEI      81.61      76.12      88.40\n",
      "2074            Sandi Suryadi     STEI      79.17      73.81      86.83\n",
      "...                       ...      ...        ...        ...        ...\n",
      "372          Muhammad Syirazi      FTI      52.96       5.31      15.81\n",
      "1445            Erwin Hariadi     STEI      87.95       2.09      14.43\n",
      "4772     Emirza Faisal Dahlan    SITHS      72.59      14.19      12.94\n",
      "3534          Evelyn Melindra     STEI      77.56       7.83      11.10\n",
      "4459             Firda Amalia    FMIPA      95.58      10.10       9.11\n",
      "\n",
      "[5135 rows x 5 columns]\n"
     ]
    }
   ],
   "source": [
    "import pandas as pd\n",
    "#mengurutkan nilai fisika tertinggi hingga terkecil\n",
    "df = pd.read_csv(\"H05.csv\")\n",
    "\n",
    "print(df.sort_values ([\"nilai_fis\"], ascending =[0])) #data nilai fisika tertinggi ke rendah\n",
    "\n"
   ]
  },
  {
   "cell_type": "code",
   "execution_count": 1,
   "metadata": {},
   "outputs": [
    {
     "name": "stdout",
     "output_type": "stream",
     "text": [
      "                          nama fakultas  nilai_mat  nilai_kim  nilai_fis\n",
      "2554      Faathir Reza Avicena     FTSL      57.12      81.50      78.68\n",
      "2779      Dinda A A Z Mundakir     STEI      41.18      81.34      82.60\n",
      "3544        Tammya Ayu Purnomo    SITHS      74.49      81.20      78.58\n",
      "4934    Alyssa Nadhira Windari     FTMD      78.38      78.83      78.68\n",
      "1137          Izni Nur Ibrahim     STEI      56.70      78.46      84.34\n",
      "2262      Rinaldi Oky Setiawan     STEI      71.22      77.44      83.66\n",
      "4070      Ias Azhari Rezkyarno    FMIPA      62.85      76.90      81.52\n",
      "2945           Klara Petra T T     FTSL      73.39      76.61      78.12\n",
      "1788  Naudy Germanimo Laksmana     FTMD      62.29      76.38      76.15\n",
      "1310       Mardliyahtur Rohmah     STEI      63.15      76.36      74.06\n"
     ]
    }
   ],
   "source": [
    "import pandas as pd\n",
    "#mencari 10 mahasiswa dengan nilai kimia tertinggi\n",
    "df = pd.read_csv(\"H05.csv\")\n",
    "\n",
    "print(df.sort_values([\"nilai_kim\"], ascending=[0])[0:10])"
   ]
  },
  {
   "cell_type": "code",
   "execution_count": 29,
   "metadata": {},
   "outputs": [
    {
     "name": "stdout",
     "output_type": "stream",
     "text": [
      "banyaknya nilai matematika di bawah 50: 329 orang\n"
     ]
    }
   ],
   "source": [
    "import pandas as pd\n",
    "#mencari banyaknya nilai matematika di bawah 50\n",
    "df = pd.read_csv(\"H05.csv\")\n",
    "n50 = len(df.loc[(df[\"nilai_mat\"] < 50)])\n",
    "print(f\"banyaknya nilai matematika di bawah 50: {n50} orang\")\n",
    "\n",
    "# n50 = (df.loc[(df[\"nilai_mat\"] < 50)]).value_counts()\n",
    "# print(n50)\n"
   ]
  },
  {
   "cell_type": "code",
   "execution_count": 22,
   "metadata": {},
   "outputs": [
    {
     "name": "stdout",
     "output_type": "stream",
     "text": [
      "mahasiswa FMIPA sebanyak 627 orang\n",
      "\n"
     ]
    }
   ],
   "source": [
    "import pandas as pd\n",
    "\n",
    "df = pd.read_csv(\"H05.csv\")\n",
    "nFMIPA = len(df.loc[df[\"fakultas\"] == \"FMIPA\"])\n",
    "print(f\"mahasiswa FMIPA sebanyak {nFMIPA} orang\\n\")\n",
    "\n",
    "# nFMIPA = (df.loc[df[\"fakultas\"] == \"FMIPA\"]).value_counts()\n",
    "# print(nFMIPA)"
   ]
  }
 ],
 "metadata": {
  "kernelspec": {
   "display_name": "Python 3",
   "language": "python",
   "name": "python3"
  },
  "language_info": {
   "codemirror_mode": {
    "name": "ipython",
    "version": 3
   },
   "file_extension": ".py",
   "mimetype": "text/x-python",
   "name": "python",
   "nbconvert_exporter": "python",
   "pygments_lexer": "ipython3",
   "version": "3.11.5"
  }
 },
 "nbformat": 4,
 "nbformat_minor": 2
}
