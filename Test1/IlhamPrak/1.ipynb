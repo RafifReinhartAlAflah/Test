{
 "cells": [
  {
   "cell_type": "code",
   "execution_count": null,
   "metadata": {},
   "outputs": [],
   "source": [
    "import pandas as pd\n",
    "df = pd.read_csv(\"P05-01.csv\")\n",
    "\n",
    "print(df[\"Card_Category\"].value_counts())"
   ]
  },
  {
   "cell_type": "code",
   "execution_count": null,
   "metadata": {},
   "outputs": [],
   "source": [
    "import pandas as pd\n",
    "df = pd.read_csv(\"P05-01.csv\")\n",
    "\n",
    "df[\"Credit_Limit\"].mean()\n",
    "# df.describe()\n"
   ]
  },
  {
   "cell_type": "code",
   "execution_count": null,
   "metadata": {},
   "outputs": [],
   "source": [
    "import pandas as pd\n",
    "df = pd.read_csv(\"P05-01.csv\")\n",
    "\n",
    "print(df.sort_values([\"Total_Trans_Amt\"], ascending = [0])[0:5])"
   ]
  },
  {
   "cell_type": "code",
   "execution_count": null,
   "metadata": {},
   "outputs": [],
   "source": [
    "import pandas as pd\n",
    "df = pd.read_csv(\"P05-01.csv\")\n",
    "# print(df)\n",
    "data = df.loc[(df[\"Card_Category\"] == \"Gold\")]\n",
    "print(data)"
   ]
  },
  {
   "cell_type": "code",
   "execution_count": null,
   "metadata": {},
   "outputs": [],
   "source": [
    "korelasi = df[\"Customer_Age\"].corr(df[\"Total_Trans_Amt\"])\n",
    "print(korelasi)\n",
    "\n",
    "if korelasi > 1/3:\n",
    "    print(\"Korelasi lurus\")\n",
    "if korelasi > -1/3:\n",
    "    print(\"Korelasi terbalik\")\n",
    "else:\n",
    "    print(\"Tidak ada korelasi\")"
   ]
  }
 ],
 "metadata": {
  "kernelspec": {
   "display_name": "Python 3",
   "language": "python",
   "name": "python3"
  },
  "language_info": {
   "codemirror_mode": {
    "name": "ipython",
    "version": 3
   },
   "file_extension": ".py",
   "mimetype": "text/x-python",
   "name": "python",
   "nbconvert_exporter": "python",
   "pygments_lexer": "ipython3",
   "version": "3.11.5"
  }
 },
 "nbformat": 4,
 "nbformat_minor": 2
}
