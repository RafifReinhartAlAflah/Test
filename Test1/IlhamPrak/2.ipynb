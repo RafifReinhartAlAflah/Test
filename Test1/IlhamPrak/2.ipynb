{
 "cells": [
  {
   "cell_type": "code",
   "execution_count": null,
   "metadata": {},
   "outputs": [],
   "source": [
    "import pandas as pd\n",
    "df = pd.read_csv(\"P05-01.csv\")\n",
    "\n",
    "data = df.loc[(df[\"Attrition_Flag\"] == \"Attrited Customer\")]\n",
    "\n",
    "print(data[\"Attrition_Flag\"].value_counts())"
   ]
  },
  {
   "cell_type": "code",
   "execution_count": null,
   "metadata": {},
   "outputs": [],
   "source": [
    "import pandas as pd\n",
    "df = pd.read_csv(\"P05-01.csv\")\n",
    "\n",
    "print(df.sort_values([\"Total_Revolving_Bal\"], ascending = [0]))\n",
    "\n",
    "\n"
   ]
  },
  {
   "cell_type": "code",
   "execution_count": null,
   "metadata": {},
   "outputs": [],
   "source": [
    "data = df.loc[(df[\"Education_Level\"] == \"High School\") & (df[\"Marital_Status\"] == \"Married\")].value_counts()\n",
    "\n",
    "print(len (data))"
   ]
  },
  {
   "cell_type": "code",
   "execution_count": null,
   "metadata": {},
   "outputs": [],
   "source": [
    "data = df.loc[((df[\"Card_Category\"] == \"Gold\") & (df[\"Total_Trans_Ct\"] > 100)) | ((df[\"Card_Category\"] == \"Blue\") & (df[\"Total_Trans_Ct\"] > 100)) | ((df[\"Card_Category\"] == \"Silver\") & (df[\"Total_Trans_Ct\"] > 100))]\n",
    "print(data)\n",
    "# print(data2)\n",
    "# print(data3)"
   ]
  },
  {
   "cell_type": "code",
   "execution_count": null,
   "metadata": {},
   "outputs": [],
   "source": [
    "usia = df.loc[(df[\"Customer_Age\"] < 40) & (df[\"Income_Category\"] == \"$80K - $120K\")]\n",
    "urut = usia.sort_values([\"Customer_Age\"], ascending=[1])\n",
    "print(urut[0:5])"
   ]
  }
 ],
 "metadata": {
  "kernelspec": {
   "display_name": "Python 3",
   "language": "python",
   "name": "python3"
  },
  "language_info": {
   "codemirror_mode": {
    "name": "ipython",
    "version": 3
   },
   "file_extension": ".py",
   "mimetype": "text/x-python",
   "name": "python",
   "nbconvert_exporter": "python",
   "pygments_lexer": "ipython3",
   "version": "3.11.5"
  }
 },
 "nbformat": 4,
 "nbformat_minor": 2
}
