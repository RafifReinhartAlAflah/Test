{
 "cells": [
  {
   "cell_type": "code",
   "execution_count": 11,
   "metadata": {},
   "outputs": [
    {
     "name": "stdout",
     "output_type": "stream",
     "text": [
      "1. :\n",
      "animal\n",
      "acept        6323\n",
      "not acept    1908\n"
     ]
    }
   ],
   "source": [
    "import pandas as pd\n",
    "#banyak rumah berdasarkan status izin membawa hewan\n",
    "df = pd.read_csv(\"P05-02.csv\")\n",
    "# print(df.loc[(df[\"animal\"]== \"acept\")].value_counts()) #yang diizinkan\n",
    "print(\"1. :\")\n",
    "data = df[\"animal\"].value_counts()\n",
    "print(data.to_string()) #untuk yang boleh dan tidak diizinkan peliharaan"
   ]
  },
  {
   "cell_type": "code",
   "execution_count": 12,
   "metadata": {},
   "outputs": [
    {
     "name": "stdout",
     "output_type": "stream",
     "text": [
      "2. :\n",
      "city\n",
      "Sao Paulo    4273\n"
     ]
    }
   ],
   "source": [
    "#kota dengan jumlah area terbanyak\n",
    "import pandas as pd\n",
    "df = pd.read_csv(\"P05-02.csv\")\n",
    "print(\"2. :\")\n",
    "data = df[\"city\"].value_counts()\n",
    "print(data [0:1].to_string())"
   ]
  },
  {
   "cell_type": "code",
   "execution_count": 15,
   "metadata": {},
   "outputs": [
    {
     "name": "stdout",
     "output_type": "stream",
     "text": [
      "3. : \n",
      "                city  area  rooms  bathroom  parking_spaces  floor     animal  \\\n",
      "4534  Rio de Janeiro    30      1         1               1      3      acept   \n",
      "7178  Rio de Janeiro    30      1         1               1      3      acept   \n",
      "7876  Belo Horizonte    25      1         1               1      1  not acept   \n",
      "3267  Belo Horizonte    20      1         1               0      1  not acept   \n",
      "3725  Belo Horizonte    30      1         1               0      2      acept   \n",
      "\n",
      "          furniture  homeowner_tax  rent_amount  property_tax  fire_insurance  \\\n",
      "4534  not furnished              0          500             0               7   \n",
      "7178  not furnished              0          500             0               7   \n",
      "7876  not furnished              0          500            38               7   \n",
      "3267  not furnished              0          500            42               7   \n",
      "3725  not furnished              0          525            25               7   \n",
      "\n",
      "      total  \n",
      "4534    507  \n",
      "7178    507  \n",
      "7876    545  \n",
      "3267    549  \n",
      "3725    557  \n"
     ]
    }
   ],
   "source": [
    "print(\"3. : \")\n",
    "data = df.sort_values([\"total\"], ascending = [1])\n",
    "print(data[:5])"
   ]
  },
  {
   "cell_type": "code",
   "execution_count": 36,
   "metadata": {},
   "outputs": [
    {
     "name": "stdout",
     "output_type": "stream",
     "text": [
      "              city  area  rooms  bathroom  parking_spaces  floor     animal  \\\n",
      "2     Porto Alegre    80      1         1               1      6      acept   \n",
      "3     Porto Alegre    51      2         1               0      2      acept   \n",
      "29    Porto Alegre    38      1         1               2     11  not acept   \n",
      "31    Porto Alegre    40      1         1               1      6      acept   \n",
      "38    Porto Alegre    42      1         1               2      2      acept   \n",
      "...            ...   ...    ...       ...             ...    ...        ...   \n",
      "8190  Porto Alegre   400      4         2               2     15      acept   \n",
      "8214  Porto Alegre   220      3         2               2     15      acept   \n",
      "8216  Porto Alegre    40      1         1               0      1      acept   \n",
      "8222  Porto Alegre   160      3         2               3      4      acept   \n",
      "8227  Porto Alegre    63      2         1               1      5  not acept   \n",
      "\n",
      "          furniture  homeowner_tax  rent_amount  property_tax  fire_insurance  \\\n",
      "2     not furnished           1000         2800             0              41   \n",
      "3     not furnished            270         1112            22              17   \n",
      "29    not furnished            450         1750             0              26   \n",
      "31        furnished            390         2990             0              44   \n",
      "38        furnished            190         1770            17              26   \n",
      "...             ...            ...          ...           ...             ...   \n",
      "8190      furnished           2250         6300           500              92   \n",
      "8214  not furnished            842         2400           117              36   \n",
      "8216  not furnished            330         1200           159              18   \n",
      "8222      furnished            850         3300           220              49   \n",
      "8227      furnished            402         1478            24              22   \n",
      "\n",
      "      total  \n",
      "2      3841  \n",
      "3      1421  \n",
      "29     2226  \n",
      "31     3424  \n",
      "38     2003  \n",
      "...     ...  \n",
      "8190   9142  \n",
      "8214   3395  \n",
      "8216   1707  \n",
      "8222   4419  \n",
      "8227   1926  \n",
      "\n",
      "[999 rows x 13 columns]\n"
     ]
    }
   ],
   "source": [
    "print(\"4. :\")\n",
    "print(df.loc[(df[\"city\"] == \"Porto Alegre\" )])"
   ]
  },
  {
   "cell_type": "code",
   "execution_count": 19,
   "metadata": {},
   "outputs": [
    {
     "name": "stdout",
     "output_type": "stream",
     "text": [
      "0.7248371778082944\n",
      "Berkolerasi lurus\n",
      "jarak dari 1 adalah 0.2751628221917056\n",
      "jarak dari -1 adalah -1.7248371778082943\n"
     ]
    }
   ],
   "source": [
    "korelasi = df[\"rooms\"].corr(df[\"bathroom\"])\n",
    "print(korelasi)\n",
    "if korelasi > 1/3:\n",
    "    print(\"Berkolerasi lurus\")\n",
    "    print(f\"jarak dari 1 adalah {1-korelasi}\")\n",
    "    print(f\"jarak dari -1 adalah {-1-korelasi}\")\n",
    "\n",
    "elif korelasi < -1/3:\n",
    "    print(\"Berkolerasi terbalik\")\n",
    "    print(f\"jarak dari 1 adalah {1-korelasi}\")\n",
    "    print(f\"jarak dari -1 adalah {-1-korelasi}\")\n",
    "else:\n",
    "    print(\"Tidak berkolerasi\")\n",
    "    print(f\"jarak dari 1 adalah {1-korelasi}\")\n",
    "    print(f\"jarak dari -1 adalah {-1-korelasi}\")\n",
    "\n",
    "#grafiknya naik sehingga nilai nya linear positif antara rooms dan bathroom"
   ]
  }
 ],
 "metadata": {
  "kernelspec": {
   "display_name": "Python 3",
   "language": "python",
   "name": "python3"
  },
  "language_info": {
   "codemirror_mode": {
    "name": "ipython",
    "version": 3
   },
   "file_extension": ".py",
   "mimetype": "text/x-python",
   "name": "python",
   "nbconvert_exporter": "python",
   "pygments_lexer": "ipython3",
   "version": "3.11.5"
  }
 },
 "nbformat": 4,
 "nbformat_minor": 2
}
