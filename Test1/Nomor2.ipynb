{
 "cells": [
  {
   "cell_type": "code",
   "execution_count": 14,
   "metadata": {},
   "outputs": [
    {
     "name": "stdout",
     "output_type": "stream",
     "text": [
      "1. :\n",
      "banyak rumah yang dilengkapi furniture, namun tidak ada tempat parkir:\n",
      "546 rumah\n"
     ]
    }
   ],
   "source": [
    "import pandas as pd\n",
    "print(\"1. :\")\n",
    "df = pd.read_csv(\"P05-02.csv\")\n",
    "data = df.loc[(df[\"furniture\"] == \"furnished\") & (df[\"parking_spaces\"] < 1)]\n",
    "print(f\"banyak rumah yang dilengkapi furniture, namun tidak ada tempat parkir:\\n{(data.city.count())} rumah\")\n"
   ]
  },
  {
   "cell_type": "code",
   "execution_count": 15,
   "metadata": {},
   "outputs": [
    {
     "name": "stdout",
     "output_type": "stream",
     "text": [
      "2. :\n",
      "          city  area  rooms  bathroom  parking_spaces  floor     animal  \\\n",
      "593  Sao Paulo    11      1         1               0      1  not acept   \n",
      "\n",
      "     furniture  homeowner_tax  rent_amount  property_tax  fire_insurance  \\\n",
      "593  furnished            300         2000            42              26   \n",
      "\n",
      "     total  \n",
      "593   2368  \n"
     ]
    }
   ],
   "source": [
    "print(\"2. :\")\n",
    "print(df.sort_values([\"area\"], ascending = [1])[0:1])"
   ]
  },
  {
   "cell_type": "code",
   "execution_count": 19,
   "metadata": {},
   "outputs": [
    {
     "name": "stdout",
     "output_type": "stream",
     "text": [
      "3. :\n",
      "rumah dgn kamar tidur di atas 2 dan harga sewa total < 3000 : 637\n"
     ]
    }
   ],
   "source": [
    "print(\"3. :\")\n",
    "data = df.loc[(df[\"rooms\"] > 2) & (df[\"total\"] < 3000)]\n",
    "print(f\"rumah dgn kamar tidur di atas 2 dan harga sewa total < 3000 : {(data.city.count())}\")"
   ]
  },
  {
   "cell_type": "code",
   "execution_count": 28,
   "metadata": {},
   "outputs": [
    {
     "name": "stdout",
     "output_type": "stream",
     "text": [
      "4. :\n",
      "\n",
      "banyaknya kota:\n",
      "city\n",
      "Sao Paulo         1909\n",
      "Rio de Janeiro     440\n",
      "Belo Horizonte     386\n",
      "Porto Alegre       212\n",
      "Campinas           146\n",
      "Name: count, dtype: int64\n"
     ]
    }
   ],
   "source": [
    "# data = df.loc[(df[\"area\"] > 100)].value_counts()\n",
    "print(\"4. :\")\n",
    "# print(data)\n",
    "print(\"\\nbanyaknya kota:\")\n",
    "data = df.loc[(df[\"area\"] > 100)]\n",
    "print(data[\"city\"].value_counts())\n",
    "# print(len(df.loc[(df[\"city\"] == \"Sao Paulo\") & (df[\"area\"] > 100)]))"
   ]
  },
  {
   "cell_type": "code",
   "execution_count": 32,
   "metadata": {},
   "outputs": [
    {
     "name": "stdout",
     "output_type": "stream",
     "text": [
      "5. :\n",
      "          city  area  rooms  bathroom  parking_spaces  floor animal  \\\n",
      "2331  Campinas   244      5         7               4     12  acept   \n",
      "1766  Campinas   400      5         7               4      5  acept   \n",
      "5077  Campinas   500      3         7               5     14  acept   \n",
      "1473  Campinas   660      5         7               4     17  acept   \n",
      "426   Campinas   398      5         6               0      2  acept   \n",
      "\n",
      "          furniture  homeowner_tax  rent_amount  property_tax  fire_insurance  \\\n",
      "2331  not furnished           1600         8000           500             102   \n",
      "1766  not furnished           3200         7900           888             101   \n",
      "5077      furnished           1890         7950           900             101   \n",
      "1473  not furnished           5381        10000          1100             127   \n",
      "426   not furnished           3500         8500           700             108   \n",
      "\n",
      "      total  \n",
      "2331  10200  \n",
      "1766  12090  \n",
      "5077  10840  \n",
      "1473  16610  \n",
      "426   12810  \n"
     ]
    }
   ],
   "source": [
    "print(\"5. :\")\n",
    "import pandas as pd\n",
    "df = pd.read_csv(\"P05-02.csv\")\n",
    "data = df.loc[(df[\"city\"] == \"Campinas\")]\n",
    "data2 = data.sort_values([\"bathroom\"], ascending=[0])\n",
    "# print(data)\n",
    "print(data2 [0:5])"
   ]
  }
 ],
 "metadata": {
  "kernelspec": {
   "display_name": "Python 3",
   "language": "python",
   "name": "python3"
  },
  "language_info": {
   "codemirror_mode": {
    "name": "ipython",
    "version": 3
   },
   "file_extension": ".py",
   "mimetype": "text/x-python",
   "name": "python",
   "nbconvert_exporter": "python",
   "pygments_lexer": "ipython3",
   "version": "3.11.5"
  }
 },
 "nbformat": 4,
 "nbformat_minor": 2
}
