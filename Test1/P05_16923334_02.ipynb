{
 "cells": [
  {
   "cell_type": "code",
   "execution_count": 4,
   "metadata": {},
   "outputs": [
    {
     "name": "stdout",
     "output_type": "stream",
     "text": [
      "#  PROBLEM  2  :\n",
      "=======================================================\n"
     ]
    }
   ],
   "source": [
    "# NIM/Name  : 16923334 / Aydin Naufal Satwika Nugroho\n",
    "# Date      : 14/11/2023\n",
    "# Deskripsi : Solution for a Problem set 2\n",
    "\n",
    "# DICTIONARY :\n",
    "# Import = pd (pandas)\n",
    "# Data Frame (Table) = main_table , area_min , set1 , set3 , set4, set 5 , sort_bath\n",
    "\n",
    "import pandas as pd # Importing pandas package to be used\n",
    "\n",
    "main_table = pd.read_csv(\"P05-02.csv\")\n",
    "# Declaring the source file of the csv we are going to use\n",
    "\n",
    "print(\"#  PROBLEM  2  :\")\n",
    "print(\"=======================================================\")"
   ]
  },
  {
   "cell_type": "code",
   "execution_count": 55,
   "metadata": {},
   "outputs": [
    {
     "name": "stdout",
     "output_type": "stream",
     "text": [
      "1.  :\n",
      "Terdapat 546 rumah yang sudah dilengkapi furnitur tetapi tidak terdapat tempat parkir\n",
      "-------------------------------------------------------\n"
     ]
    }
   ],
   "source": [
    "print(\"1.  :\")\n",
    "# selecting the house data which is furnushed and have a parking spaces\n",
    "set1 = main_table.loc[(main_table[\"furniture\"] == \"furnished\") & (main_table[\"parking_spaces\"] < 1) ]\n",
    "# printing out the result on the total of data of which properties\n",
    "print(\"Terdapat\", (set1.city.count()), \"rumah yang sudah dilengkapi furnitur tetapi tidak terdapat tempat parkir\")\n",
    "\n",
    "print(\"-------------------------------------------------------\")"
   ]
  },
  {
   "cell_type": "code",
   "execution_count": 34,
   "metadata": {},
   "outputs": [
    {
     "name": "stdout",
     "output_type": "stream",
     "text": [
      "2.  :\n",
      "          city  area  rooms  bathroom  parking_spaces  floor     animal  \\\n",
      "593  Sao Paulo    11      1         1               0      1  not acept   \n",
      "\n",
      "     furniture  homeowner_tax  rent_amount  property_tax  fire_insurance  \\\n",
      "593  furnished            300         2000            42              26   \n",
      "\n",
      "     total  \n",
      "593   2368  \n",
      "-------------------------------------------------------\n"
     ]
    }
   ],
   "source": [
    "print(\"2.  :\")\n",
    "# selecting the data with the least value of area\n",
    "area_min = main_table[\"area\"].idxmin()\n",
    "# printing out the data table with minimum area\n",
    "print(main_table[area_min:area_min+1])\n",
    "print(\"-------------------------------------------------------\")"
   ]
  },
  {
   "cell_type": "code",
   "execution_count": 57,
   "metadata": {},
   "outputs": [
    {
     "name": "stdout",
     "output_type": "stream",
     "text": [
      "3.  :\n",
      "terdapat 637 rumah dengan jumlah kamar tidur di atas 2 dan harga sewa total per tahun di bawah 3000\n",
      "-------------------------------------------------------\n"
     ]
    }
   ],
   "source": [
    "print(\"3.  :\")\n",
    "# selecting the data with rooms more than 2 and price below 3000\n",
    "set3 = main_table.loc[(main_table[\"rooms\"] > 2) & (main_table[\"total\"] < 3000) ]\n",
    "# printing out the result\n",
    "print(\"terdapat\",set3.city.count(), \"rumah dengan jumlah kamar tidur di atas 2 dan harga sewa total per tahun di bawah 3000\")\n",
    "\n",
    "print(\"-------------------------------------------------------\")"
   ]
  },
  {
   "cell_type": "code",
   "execution_count": 2,
   "metadata": {},
   "outputs": [
    {
     "name": "stdout",
     "output_type": "stream",
     "text": [
      "4.  :\n",
      "city\n",
      "Sao Paulo         1909\n",
      "Rio de Janeiro     440\n",
      "Belo Horizonte     386\n",
      "Porto Alegre       212\n",
      "Campinas           146\n",
      "Name: count, dtype: int64\n",
      "-------------------------------------------------------\n"
     ]
    }
   ],
   "source": [
    "print(\"4.  :\")\n",
    "import pandas as pd # Importing pandas package to be used\n",
    "\n",
    "main_table = pd.read_csv(\"P05-02.csv\")\n",
    "# sorting the data on which have an area more than 100\n",
    "set4 = main_table.loc[(main_table[\"area\"] > 100) ]\n",
    "# printing the result catagorized by each city\n",
    "print((set4[\"city\"].value_counts()))\n",
    "\n",
    "print(\"-------------------------------------------------------\")"
   ]
  },
  {
   "cell_type": "code",
   "execution_count": 44,
   "metadata": {},
   "outputs": [
    {
     "name": "stdout",
     "output_type": "stream",
     "text": [
      "5.  :\n",
      "          city  area  rooms  bathroom  parking_spaces  floor animal  \\\n",
      "2331  Campinas   244      5         7               4     12  acept   \n",
      "1766  Campinas   400      5         7               4      5  acept   \n",
      "5077  Campinas   500      3         7               5     14  acept   \n",
      "1473  Campinas   660      5         7               4     17  acept   \n",
      "426   Campinas   398      5         6               0      2  acept   \n",
      "\n",
      "          furniture  homeowner_tax  rent_amount  property_tax  fire_insurance  \\\n",
      "2331  not furnished           1600         8000           500             102   \n",
      "1766  not furnished           3200         7900           888             101   \n",
      "5077      furnished           1890         7950           900             101   \n",
      "1473  not furnished           5381        10000          1100             127   \n",
      "426   not furnished           3500         8500           700             108   \n",
      "\n",
      "      total  \n",
      "2331  10200  \n",
      "1766  12090  \n",
      "5077  10840  \n",
      "1473  16610  \n",
      "426   12810  \n",
      "-------------------------------------------------------\n"
     ]
    }
   ],
   "source": [
    "print(\"5.  :\")\n",
    "# selecting data with city located in Campinas\n",
    "set5 = main_table.loc[(main_table[\"city\"] == \"Campinas\")]\n",
    "# sorting the set5 data based on bathroom number on descending values\n",
    "sort_bath = set5.sort_values([\"bathroom\"], ascending =[0])\n",
    "# selecting the top 5 data to be printed\n",
    "print(sort_bath[0:5])\n",
    "\n",
    "print(\"-------------------------------------------------------\")"
   ]
  }
 ],
 "metadata": {
  "kernelspec": {
   "display_name": "Python 3",
   "language": "python",
   "name": "python3"
  },
  "language_info": {
   "codemirror_mode": {
    "name": "ipython",
    "version": 3
   },
   "file_extension": ".py",
   "mimetype": "text/x-python",
   "name": "python",
   "nbconvert_exporter": "python",
   "pygments_lexer": "ipython3",
   "version": "3.11.5"
  },
  "orig_nbformat": 4
 },
 "nbformat": 4,
 "nbformat_minor": 2
}
