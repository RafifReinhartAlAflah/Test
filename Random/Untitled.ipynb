{
 "cells": [
  {
   "cell_type": "code",
   "execution_count": 15,
   "id": "edcaa99a-9bdd-4425-9a54-1e7718d1f386",
   "metadata": {},
   "outputs": [
    {
     "name": "stdin",
     "output_type": "stream",
     "text": [
      "A[1]=  1\n",
      "A[2]=  2\n",
      "A[3]=  3\n",
      "A[4]=  1\n",
      "A[5]=  3\n",
      "B[1]  1\n",
      "B[2]  2\n",
      "B[3]  3\n",
      "B[4]  4\n",
      "B[5]  1\n"
     ]
    },
    {
     "name": "stdout",
     "output_type": "stream",
     "text": [
      "   A  B\n",
      "0  1  1\n",
      "1  2  2\n",
      "2  3  3\n",
      "3  1  4\n",
      "4  3  1\n"
     ]
    }
   ],
   "source": [
    "import pandas as pd\n",
    "input_data = {}\n",
    "input_data [\"A\"] = [0 for i in range(5)]\n",
    "input_data [\"B\"] = [0 for i in range(5)]\n",
    "for i in range(5):\n",
    "    input_data [\"A\"][i] = input(\"A[\" + str(i + 1) + \"]= \")\n",
    "for i in range(5):\n",
    "    input_data [\"B\"][i] = input(\"B[\" + str(i + 1) + \"] \")\n",
    "df = pd. DataFrame (data=input_data)\n",
    "print(df)"
   ]
  },
  {
   "cell_type": "code",
   "execution_count": 1,
   "id": "56e84e32-5e9f-4b73-860b-0de0f0b514df",
   "metadata": {},
   "outputs": [
    {
     "name": "stdout",
     "output_type": "stream",
     "text": [
      "                          nama fakultas  nilai_mat  nilai_kim  nilai_fis\n",
      "0         Farhan Fathur Rahman    FMIPA      57.21      34.14      38.93\n",
      "1               Steven Margono    FMIPA      67.43      51.50      57.20\n",
      "2                 Ryan Sentosa    SAPPK      90.62      37.38      40.73\n",
      "3         Muhajah Babny Muslim    FMIPA      72.31      38.80      44.79\n",
      "4             Alvin Natawiguna     FTSL      65.45      57.67      56.39\n",
      "...                        ...      ...        ...        ...        ...\n",
      "5130               Khoirrashif    SITHR      66.14      46.82      56.74\n",
      "5131      Jefri Hendri Adriano     FTSL      53.68      34.74      33.76\n",
      "5132               Iki Hidayat     FITB      69.63      35.04      37.65\n",
      "5133  Muhammad Nashir Sitompul      FTI      79.69      39.06      50.17\n",
      "5134     Billy Richardo Sagala     STEI      68.68      51.23      66.18\n",
      "\n",
      "[5135 rows x 5 columns]\n"
     ]
    }
   ],
   "source": [
    "import pandas as pd\n",
    "\n",
    "df = pd.read_csv(\"H05.csv\")\n",
    "\n",
    "print(df)"
   ]
  },
  {
   "cell_type": "code",
   "execution_count": null,
   "id": "dee9c45e-786c-4f42-9dda-0bc54490d2c1",
   "metadata": {},
   "outputs": [],
   "source": []
  }
 ],
 "metadata": {
  "kernelspec": {
   "display_name": "Python 3 (ipykernel)",
   "language": "python",
   "name": "python3"
  },
  "language_info": {
   "codemirror_mode": {
    "name": "ipython",
    "version": 3
   },
   "file_extension": ".py",
   "mimetype": "text/x-python",
   "name": "python",
   "nbconvert_exporter": "python",
   "pygments_lexer": "ipython3",
   "version": "3.11.5"
  }
 },
 "nbformat": 4,
 "nbformat_minor": 5
}
